{
 "cells": [
  {
   "cell_type": "code",
   "execution_count": 1,
   "id": "07209f37-834c-43d3-b3c3-31a83facf42b",
   "metadata": {},
   "outputs": [],
   "source": [
    "a = [1, 2, 3, \"e\", 7878, 4]"
   ]
  },
  {
   "cell_type": "markdown",
   "id": "31b61a13-91b7-42a7-9760-ebddd1b1bf2c",
   "metadata": {},
   "source": [
    "reverse this list"
   ]
  },
  {
   "cell_type": "code",
   "execution_count": 36,
   "id": "73ef7c4b-4c2e-491d-b574-09b806fa1402",
   "metadata": {},
   "outputs": [
    {
     "name": "stdout",
     "output_type": "stream",
     "text": [
      "[4, 7878, 'e', 3, 2, 1]\n",
      "[4, 7878, 'e', 3, 2, 1]\n"
     ]
    }
   ],
   "source": [
    "b = [a[-i] for i in range(1, len(a)+1)]\n",
    "\n",
    "print(a[::-1])\n",
    "\n",
    "print(b)"
   ]
  },
  {
   "cell_type": "code",
   "execution_count": 14,
   "id": "819af32d-5d86-423d-9f77-d4d8924c2878",
   "metadata": {},
   "outputs": [],
   "source": [
    "d = {\n",
    "    \"key1\" : \"Value1\",\n",
    "    \"key2\" : \"Value2\",\n",
    "    \"key3\" : \"Value3\",\n",
    "}"
   ]
  },
  {
   "cell_type": "markdown",
   "id": "a34282b8-1b1b-41f9-bce3-ab5477d267a2",
   "metadata": {},
   "source": [
    "Reverse thi dictionnary by inverting key value pairs"
   ]
  },
  {
   "cell_type": "code",
   "execution_count": 32,
   "id": "a51f646d-d3ef-4669-a4d8-7cb290ddc2ca",
   "metadata": {},
   "outputs": [
    {
     "name": "stdout",
     "output_type": "stream",
     "text": [
      "{'Value1': 'key1', 'Value2': 'key2', 'Value3': 'key3'}\n"
     ]
    }
   ],
   "source": [
    "d_r = {value:key for key, value in d.items()}\n",
    "\n",
    "print(d_r)"
   ]
  },
  {
   "cell_type": "code",
   "execution_count": 37,
   "id": "e64e9224-d4df-46e8-957e-b5fe58fa2b47",
   "metadata": {},
   "outputs": [],
   "source": [
    "money = {\n",
    "    \"John\" : 40,\n",
    "    \"David\" : 2000,\n",
    "    \"Seb\" : 2,\n",
    "}"
   ]
  },
  {
   "cell_type": "markdown",
   "id": "49950db5-b546-4dcd-a35d-09407414e89b",
   "metadata": {},
   "source": [
    "List Ranking by salary"
   ]
  },
  {
   "cell_type": "code",
   "execution_count": 38,
   "id": "4334856d-051e-467d-84d8-e43ed6ad0875",
   "metadata": {},
   "outputs": [
    {
     "name": "stdout",
     "output_type": "stream",
     "text": [
      "['Seb', 'John', 'David']\n"
     ]
    }
   ],
   "source": [
    "#my solution\n",
    "\n",
    "d_r = {}\n",
    "ranking = []\n",
    "\n",
    "salaries = sorted(list(money.values()))\n",
    "\n",
    "for name, salary in money.items():\n",
    "    d_r [salary] = name\n",
    "\n",
    "for salary in salaries:\n",
    "\n",
    "    ranking.append(d_r.get(salary))\n",
    "\n",
    "print(ranking)\n",
    "\n",
    "\n",
    "    \n",
    "    "
   ]
  },
  {
   "cell_type": "code",
   "execution_count": 39,
   "id": "d281d8d7-cc4d-4181-88ca-426e391ba88d",
   "metadata": {},
   "outputs": [
    {
     "name": "stdout",
     "output_type": "stream",
     "text": [
      "[('Seb', 2), ('John', 40), ('David', 2000)]\n"
     ]
    }
   ],
   "source": [
    "#lewagon solution\n",
    "\n",
    "print(sorted(money.items(), key = lambda x : x[1]))\n"
   ]
  },
  {
   "cell_type": "code",
   "execution_count": null,
   "id": "6b0590e9-35ad-4eb7-b4da-b79471d2f7be",
   "metadata": {},
   "outputs": [],
   "source": []
  },
  {
   "cell_type": "code",
   "execution_count": null,
   "id": "e4bdc4ee-9761-499b-b2fb-48680b80accf",
   "metadata": {},
   "outputs": [],
   "source": []
  }
 ],
 "metadata": {
  "kernelspec": {
   "display_name": "Python 3 (ipykernel)",
   "language": "python",
   "name": "python3"
  },
  "language_info": {
   "codemirror_mode": {
    "name": "ipython",
    "version": 3
   },
   "file_extension": ".py",
   "mimetype": "text/x-python",
   "name": "python",
   "nbconvert_exporter": "python",
   "pygments_lexer": "ipython3",
   "version": "3.11.4"
  }
 },
 "nbformat": 4,
 "nbformat_minor": 5
}
